{
 "cells": [
  {
   "cell_type": "code",
   "execution_count": 1,
   "id": "c967476a",
   "metadata": {},
   "outputs": [],
   "source": [
    "import pandas as pd"
   ]
  },
  {
   "cell_type": "code",
   "execution_count": 2,
   "id": "5b4759b7",
   "metadata": {},
   "outputs": [],
   "source": [
    "import os"
   ]
  },
  {
   "cell_type": "code",
   "execution_count": 3,
   "id": "8d536323",
   "metadata": {},
   "outputs": [],
   "source": [
    "import glob"
   ]
  },
  {
   "cell_type": "code",
   "execution_count": 4,
   "id": "fb1bc4d7",
   "metadata": {},
   "outputs": [],
   "source": [
    "import re"
   ]
  },
  {
   "cell_type": "code",
   "execution_count": 5,
   "id": "f684f4f5",
   "metadata": {},
   "outputs": [],
   "source": [
    "pattern = re.compile(\n",
    "    r'../../Hobotnica-GPU/results/GeneratedDenseBatch_size/(?P<cells>\\d+)_cells_(?P<features>\\d+)_features/(?P<batch_size>\\d+)/_(?P<method>\\w+)_(?P<metric>\\w+).csv'\n",
    ")"
   ]
  },
  {
   "cell_type": "code",
   "execution_count": 6,
   "id": "19146ae3",
   "metadata": {},
   "outputs": [],
   "source": [
    "import numpy as np"
   ]
  },
  {
   "cell_type": "code",
   "execution_count": 7,
   "id": "cf53d322",
   "metadata": {},
   "outputs": [
    {
     "name": "stdout",
     "output_type": "stream",
     "text": [
      "../../Hobotnica-GPU/results/GeneratedDenseBatch_size/100_cells_10_features/1/_GPU_kendall.csv\n",
      "../../Hobotnica-GPU/results/GeneratedDenseBatch_size/100_cells_10_features/50/_GPU_kendall.csv\n",
      "../../Hobotnica-GPU/results/GeneratedDenseBatch_size/100_cells_10_features/5/_GPU_kendall.csv\n",
      "../../Hobotnica-GPU/results/GeneratedDenseBatch_size/100_cells_10_features/20/_GPU_kendall.csv\n",
      "../../Hobotnica-GPU/results/GeneratedDenseBatch_size/100_cells_10_features/10/_GPU_kendall.csv\n",
      "../../Hobotnica-GPU/results/GeneratedDenseBatch_size/100_cells_10_features/100/_GPU_kendall.csv\n",
      "../../Hobotnica-GPU/results/GeneratedDenseBatch_size/1000_cells_10_features/500/_GPU_kendall.csv\n",
      "../../Hobotnica-GPU/results/GeneratedDenseBatch_size/1000_cells_10_features/1000/_GPU_kendall.csv\n",
      "../../Hobotnica-GPU/results/GeneratedDenseBatch_size/1000_cells_10_features/50/_GPU_kendall.csv\n",
      "../../Hobotnica-GPU/results/GeneratedDenseBatch_size/1000_cells_10_features/200/_GPU_kendall.csv\n",
      "../../Hobotnica-GPU/results/GeneratedDenseBatch_size/1000_cells_10_features/100/_GPU_kendall.csv\n",
      "../../Hobotnica-GPU/results/GeneratedDenseBatch_size/10_cells_100_features/1/_GPU_kendall.csv\n",
      "../../Hobotnica-GPU/results/GeneratedDenseBatch_size/10_cells_100_features/2/_GPU_kendall.csv\n",
      "../../Hobotnica-GPU/results/GeneratedDenseBatch_size/10_cells_100_features/5/_GPU_kendall.csv\n",
      "../../Hobotnica-GPU/results/GeneratedDenseBatch_size/10_cells_100_features/10/_GPU_kendall.csv\n",
      "../../Hobotnica-GPU/results/GeneratedDenseBatch_size/10_cells_100000_features/1/_GPU_kendall.csv\n",
      "../../Hobotnica-GPU/results/GeneratedDenseBatch_size/10_cells_100000_features/2/_GPU_kendall.csv\n",
      "../../Hobotnica-GPU/results/GeneratedDenseBatch_size/10_cells_100000_features/5/_GPU_kendall.csv\n",
      "../../Hobotnica-GPU/results/GeneratedDenseBatch_size/10_cells_100000_features/10/_GPU_kendall.csv\n",
      "../../Hobotnica-GPU/results/GeneratedDenseBatch_size/10_cells_10_features/1/_GPU_kendall.csv\n",
      "../../Hobotnica-GPU/results/GeneratedDenseBatch_size/10_cells_10_features/2/_GPU_kendall.csv\n",
      "../../Hobotnica-GPU/results/GeneratedDenseBatch_size/10_cells_10_features/5/_GPU_kendall.csv\n",
      "../../Hobotnica-GPU/results/GeneratedDenseBatch_size/10_cells_10_features/10/_GPU_kendall.csv\n",
      "../../Hobotnica-GPU/results/GeneratedDenseBatch_size/1000_cells_10000_features/500/_GPU_kendall.csv\n",
      "../../Hobotnica-GPU/results/GeneratedDenseBatch_size/1000_cells_10000_features/1000/_GPU_kendall.csv\n",
      "../../Hobotnica-GPU/results/GeneratedDenseBatch_size/1000_cells_10000_features/50/_GPU_kendall.csv\n",
      "../../Hobotnica-GPU/results/GeneratedDenseBatch_size/1000_cells_10000_features/200/_GPU_kendall.csv\n",
      "../../Hobotnica-GPU/results/GeneratedDenseBatch_size/1000_cells_10000_features/100/_GPU_kendall.csv\n",
      "../../Hobotnica-GPU/results/GeneratedDenseBatch_size/10000_cells_10_features/10000/_GPU_kendall.csv\n",
      "../../Hobotnica-GPU/results/GeneratedDenseBatch_size/10000_cells_10_features/500/_GPU_kendall.csv\n",
      "../../Hobotnica-GPU/results/GeneratedDenseBatch_size/10000_cells_10_features/1000/_GPU_kendall.csv\n",
      "../../Hobotnica-GPU/results/GeneratedDenseBatch_size/10000_cells_10_features/2000/_GPU_kendall.csv\n",
      "../../Hobotnica-GPU/results/GeneratedDenseBatch_size/10000_cells_10_features/5000/_GPU_kendall.csv\n",
      "../../Hobotnica-GPU/results/GeneratedDenseBatch_size/10000_cells_10_features/100/_GPU_kendall.csv\n",
      "../../Hobotnica-GPU/results/GeneratedDenseBatch_size/1000_cells_1000_features/500/_GPU_kendall.csv\n",
      "../../Hobotnica-GPU/results/GeneratedDenseBatch_size/1000_cells_1000_features/1000/_GPU_kendall.csv\n",
      "../../Hobotnica-GPU/results/GeneratedDenseBatch_size/1000_cells_1000_features/50/_GPU_kendall.csv\n",
      "../../Hobotnica-GPU/results/GeneratedDenseBatch_size/1000_cells_1000_features/200/_GPU_kendall.csv\n",
      "../../Hobotnica-GPU/results/GeneratedDenseBatch_size/1000_cells_1000_features/100/_GPU_kendall.csv\n",
      "../../Hobotnica-GPU/results/GeneratedDenseBatch_size/100_cells_100_features/1/_GPU_kendall.csv\n",
      "../../Hobotnica-GPU/results/GeneratedDenseBatch_size/100_cells_100_features/50/_GPU_kendall.csv\n",
      "../../Hobotnica-GPU/results/GeneratedDenseBatch_size/100_cells_100_features/5/_GPU_kendall.csv\n",
      "../../Hobotnica-GPU/results/GeneratedDenseBatch_size/100_cells_100_features/20/_GPU_kendall.csv\n",
      "../../Hobotnica-GPU/results/GeneratedDenseBatch_size/100_cells_100_features/10/_GPU_kendall.csv\n",
      "../../Hobotnica-GPU/results/GeneratedDenseBatch_size/100_cells_100_features/100/_GPU_kendall.csv\n",
      "../../Hobotnica-GPU/results/GeneratedDenseBatch_size/100_cells_1000_features/1/_GPU_kendall.csv\n",
      "../../Hobotnica-GPU/results/GeneratedDenseBatch_size/100_cells_1000_features/50/_GPU_kendall.csv\n",
      "../../Hobotnica-GPU/results/GeneratedDenseBatch_size/100_cells_1000_features/5/_GPU_kendall.csv\n",
      "../../Hobotnica-GPU/results/GeneratedDenseBatch_size/100_cells_1000_features/20/_GPU_kendall.csv\n",
      "../../Hobotnica-GPU/results/GeneratedDenseBatch_size/100_cells_1000_features/10/_GPU_kendall.csv\n",
      "../../Hobotnica-GPU/results/GeneratedDenseBatch_size/100_cells_1000_features/100/_GPU_kendall.csv\n",
      "../../Hobotnica-GPU/results/GeneratedDenseBatch_size/10000_cells_100_features/10000/_GPU_kendall.csv\n",
      "../../Hobotnica-GPU/results/GeneratedDenseBatch_size/10000_cells_100_features/500/_GPU_kendall.csv\n",
      "../../Hobotnica-GPU/results/GeneratedDenseBatch_size/10000_cells_100_features/1000/_GPU_kendall.csv\n",
      "../../Hobotnica-GPU/results/GeneratedDenseBatch_size/10000_cells_100_features/2000/_GPU_kendall.csv\n",
      "../../Hobotnica-GPU/results/GeneratedDenseBatch_size/10000_cells_100_features/5000/_GPU_kendall.csv\n",
      "../../Hobotnica-GPU/results/GeneratedDenseBatch_size/10000_cells_100_features/100/_GPU_kendall.csv\n",
      "../../Hobotnica-GPU/results/GeneratedDenseBatch_size/100_cells_100000_features/50/_GPU_kendall.csv\n",
      "../../Hobotnica-GPU/results/GeneratedDenseBatch_size/100_cells_100000_features/5/_GPU_kendall.csv\n",
      "../../Hobotnica-GPU/results/GeneratedDenseBatch_size/100_cells_100000_features/20/_GPU_kendall.csv\n",
      "../../Hobotnica-GPU/results/GeneratedDenseBatch_size/100_cells_100000_features/10/_GPU_kendall.csv\n",
      "../../Hobotnica-GPU/results/GeneratedDenseBatch_size/100_cells_100000_features/100/_GPU_kendall.csv\n",
      "../../Hobotnica-GPU/results/GeneratedDenseBatch_size/100_cells_10000_features/1/_GPU_kendall.csv\n",
      "../../Hobotnica-GPU/results/GeneratedDenseBatch_size/100_cells_10000_features/50/_GPU_kendall.csv\n",
      "../../Hobotnica-GPU/results/GeneratedDenseBatch_size/100_cells_10000_features/5/_GPU_kendall.csv\n",
      "../../Hobotnica-GPU/results/GeneratedDenseBatch_size/100_cells_10000_features/20/_GPU_kendall.csv\n",
      "../../Hobotnica-GPU/results/GeneratedDenseBatch_size/100_cells_10000_features/10/_GPU_kendall.csv\n",
      "../../Hobotnica-GPU/results/GeneratedDenseBatch_size/100_cells_10000_features/100/_GPU_kendall.csv\n",
      "../../Hobotnica-GPU/results/GeneratedDenseBatch_size/10_cells_1000_features/1/_GPU_kendall.csv\n",
      "../../Hobotnica-GPU/results/GeneratedDenseBatch_size/10_cells_1000_features/2/_GPU_kendall.csv\n",
      "../../Hobotnica-GPU/results/GeneratedDenseBatch_size/10_cells_1000_features/5/_GPU_kendall.csv\n",
      "../../Hobotnica-GPU/results/GeneratedDenseBatch_size/10_cells_1000_features/10/_GPU_kendall.csv\n",
      "../../Hobotnica-GPU/results/GeneratedDenseBatch_size/10_cells_10000_features/1/_GPU_kendall.csv\n",
      "../../Hobotnica-GPU/results/GeneratedDenseBatch_size/10_cells_10000_features/2/_GPU_kendall.csv\n",
      "../../Hobotnica-GPU/results/GeneratedDenseBatch_size/10_cells_10000_features/5/_GPU_kendall.csv\n",
      "../../Hobotnica-GPU/results/GeneratedDenseBatch_size/10_cells_10000_features/10/_GPU_kendall.csv\n",
      "../../Hobotnica-GPU/results/GeneratedDenseBatch_size/1000_cells_100_features/500/_GPU_kendall.csv\n",
      "../../Hobotnica-GPU/results/GeneratedDenseBatch_size/1000_cells_100_features/1000/_GPU_kendall.csv\n",
      "../../Hobotnica-GPU/results/GeneratedDenseBatch_size/1000_cells_100_features/50/_GPU_kendall.csv\n",
      "../../Hobotnica-GPU/results/GeneratedDenseBatch_size/1000_cells_100_features/200/_GPU_kendall.csv\n",
      "../../Hobotnica-GPU/results/GeneratedDenseBatch_size/1000_cells_100_features/100/_GPU_kendall.csv\n",
      "../../Hobotnica-GPU/results/GeneratedDenseBatch_size/10000_cells_1000_features/10000/_GPU_kendall.csv\n",
      "../../Hobotnica-GPU/results/GeneratedDenseBatch_size/10000_cells_1000_features/500/_GPU_kendall.csv\n",
      "../../Hobotnica-GPU/results/GeneratedDenseBatch_size/10000_cells_1000_features/1000/_GPU_kendall.csv\n",
      "../../Hobotnica-GPU/results/GeneratedDenseBatch_size/10000_cells_1000_features/2000/_GPU_kendall.csv\n",
      "../../Hobotnica-GPU/results/GeneratedDenseBatch_size/10000_cells_1000_features/5000/_GPU_kendall.csv\n",
      "../../Hobotnica-GPU/results/GeneratedDenseBatch_size/10000_cells_1000_features/100/_GPU_kendall.csv\n"
     ]
    }
   ],
   "source": [
    "results = []\n",
    "\n",
    "for filename in glob.glob('../../Hobotnica-GPU/results/GeneratedDenseBatch_size/*_cells_*features/*/*_*_*.csv'):\n",
    "    print(filename)\n",
    "    group = pattern.match(filename)\n",
    "    \n",
    "    cells = int(group.group('cells'))\n",
    "    features = int(group.group('features'))\n",
    "    method = group.group('method')\n",
    "    metric = group.group('metric')\n",
    "    batch_size = int(group.group('batch_size'))\n",
    "    \n",
    "#     print(cells, features, method, metric)\n",
    "    df = pd.read_csv(filename)\n",
    "    \n",
    "    elements_reinit = df.loc[:1, df.columns[0]]\n",
    "    elements_sequential = df.loc[:, df.columns[0]]\n",
    "    \n",
    "    values = {\n",
    "        'DataFile': filename,\n",
    "        'metric': metric,\n",
    "        'method': method,\n",
    "        'wX': cells,\n",
    "        'wY': features,\n",
    "        'ID': f'{cells}_{features}',\n",
    "        '|W|': cells * features,\n",
    "        'logWX': np.log10(cells),\n",
    "        'logWY': np.log10(features),\n",
    "        'logMeanTime': np.log10(np.mean(elements_sequential)),\n",
    "        'logMeanTimeReinit': np.log10(np.mean(elements_reinit)),\n",
    "        'logMinTime': np.log10(np.min(elements_sequential)),\n",
    "        'logMaxTime': np.log10(np.max(elements_sequential)),\n",
    "        'minTime': np.min(elements_sequential),\n",
    "        'maxTime': np.max(elements_sequential),\n",
    "        'mean_reinit': np.mean(elements_reinit),\n",
    "        'mean_sequential': np.mean(elements_sequential),\n",
    "        'sd': np.std(elements_sequential),\n",
    "        'Method': f'{metric}_{method}',\n",
    "        'batch_size': batch_size,\n",
    "        'num_batches': cells / batch_size,\n",
    "    }\n",
    "    \n",
    "    for i in range(df.shape[0]):\n",
    "        val = df.iloc[i][df.columns[0]]\n",
    "        if val > 0:\n",
    "            values[f'val_{i + 1}'] = df.iloc[i][df.columns[0]]\n",
    "        \n",
    "    results.append(values)"
   ]
  },
  {
   "cell_type": "code",
   "execution_count": 8,
   "id": "7d7b48bf",
   "metadata": {},
   "outputs": [],
   "source": [
    "final_df = pd.DataFrame(results)"
   ]
  },
  {
   "cell_type": "code",
   "execution_count": 9,
   "id": "1314614a",
   "metadata": {},
   "outputs": [
    {
     "data": {
      "text/plain": [
       "Index(['DataFile', 'metric', 'method', 'wX', 'wY', 'ID', '|W|', 'logWX',\n",
       "       'logWY', 'logMeanTime', 'logMeanTimeReinit', 'logMinTime', 'logMaxTime',\n",
       "       'minTime', 'maxTime', 'mean_reinit', 'mean_sequential', 'sd', 'Method',\n",
       "       'batch_size', 'num_batches', 'val_1', 'val_2', 'val_3', 'val_4',\n",
       "       'val_5', 'val_6', 'val_7', 'val_8', 'val_9', 'val_10'],\n",
       "      dtype='object')"
      ]
     },
     "execution_count": 9,
     "metadata": {},
     "output_type": "execute_result"
    }
   ],
   "source": [
    "final_df.columns"
   ]
  },
  {
   "cell_type": "code",
   "execution_count": 10,
   "id": "9a1a3103",
   "metadata": {},
   "outputs": [],
   "source": [
    "final_df.to_csv('../data/generated_dense_batch_size.csv', index=None)"
   ]
  },
  {
   "cell_type": "code",
   "execution_count": null,
   "id": "f5755932-7bb0-4477-97d2-66b1a42674ac",
   "metadata": {},
   "outputs": [],
   "source": []
  }
 ],
 "metadata": {
  "kernelspec": {
   "display_name": "bioinfo37",
   "language": "python",
   "name": "bioinfo37"
  },
  "language_info": {
   "codemirror_mode": {
    "name": "ipython",
    "version": 3
   },
   "file_extension": ".py",
   "mimetype": "text/x-python",
   "name": "python",
   "nbconvert_exporter": "python",
   "pygments_lexer": "ipython3",
   "version": "3.7.13"
  }
 },
 "nbformat": 4,
 "nbformat_minor": 5
}

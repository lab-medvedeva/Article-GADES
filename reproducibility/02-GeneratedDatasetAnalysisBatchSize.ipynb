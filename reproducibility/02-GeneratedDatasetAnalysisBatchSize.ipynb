{
 "cells": [
  {
   "cell_type": "markdown",
   "id": "3b799057",
   "metadata": {},
   "source": [
    "# Plots \n",
    "\n",
    "Plots Notebook for batch size optimal calculation for generated dense datasets."
   ]
  },
  {
   "cell_type": "markdown",
   "id": "710debd8",
   "metadata": {},
   "source": [
    "## Generated Dataset Visualization"
   ]
  },
  {
   "cell_type": "code",
   "execution_count": 1,
   "id": "57d0f9b8",
   "metadata": {},
   "outputs": [],
   "source": [
    "import matplotlib.pyplot as plt\n",
    "import matplotlib as mpl"
   ]
  },
  {
   "cell_type": "code",
   "execution_count": 2,
   "id": "6ed653ff",
   "metadata": {},
   "outputs": [],
   "source": [
    "import numpy as np\n",
    "import pandas as pd\n",
    "import seaborn as sns\n",
    "import math"
   ]
  },
  {
   "cell_type": "code",
   "execution_count": 3,
   "id": "bf222038",
   "metadata": {},
   "outputs": [],
   "source": [
    "df = pd.read_csv('../data/generated_dense_batch_size.csv')"
   ]
  },
  {
   "cell_type": "code",
   "execution_count": 7,
   "id": "1ba956ff-2768-4b17-acdb-d34fa7d88c66",
   "metadata": {},
   "outputs": [],
   "source": [
    "def get_category(x):\n",
    "    return f'{x[\"ID\"]}_{x[\"batch_size\"]}'\n",
    "\n",
    "def get_category_lookup(x):\n",
    "    return f'{x[\"ID\"]}_500'\n",
    "\n",
    "def vlookup(df, x):\n",
    "    try:\n",
    "        return df.set_index('ID_full').loc[x['vlookup_cated'], 'mean_sequential']\n",
    "    except:\n",
    "        # Skip values when batch size 500 is the same as lower batch sizes\n",
    "        return x['mean_sequential']"
   ]
  },
  {
   "cell_type": "code",
   "execution_count": 8,
   "id": "573db809-7380-4f93-a8d7-17d02558f429",
   "metadata": {},
   "outputs": [],
   "source": [
    "df['ID_full'] = df.apply(get_category, axis=1)"
   ]
  },
  {
   "cell_type": "code",
   "execution_count": 9,
   "id": "ba641447-2ccf-4171-b2b6-fb9d479ae80a",
   "metadata": {},
   "outputs": [],
   "source": [
    "df['vlookup_cated'] = df.apply(get_category_lookup, axis=1)\n",
    "    \n",
    "df['base'] = df.apply(lambda x: vlookup(df, x), axis=1)\n",
    "df['acceleration'] = df['base'] / df['mean_sequential']"
   ]
  },
  {
   "cell_type": "code",
   "execution_count": 10,
   "id": "6f227103-bff5-4f9a-b4de-1ac2eaab44e0",
   "metadata": {},
   "outputs": [
    {
     "data": {
      "text/plain": [
       "86    1.856841e+08\n",
       "Name: mean_sequential, dtype: float64"
      ]
     },
     "execution_count": 10,
     "metadata": {},
     "output_type": "execute_result"
    }
   ],
   "source": [
    "df[df['ID_full'] == '10000_1000_100']['mean_sequential']"
   ]
  },
  {
   "cell_type": "code",
   "execution_count": 11,
   "id": "b2659ffb-7285-4b93-8b6b-b4d5c4b276ab",
   "metadata": {},
   "outputs": [
    {
     "data": {
      "text/plain": [
       "82    1.639936e+08\n",
       "Name: mean_sequential, dtype: float64"
      ]
     },
     "execution_count": 11,
     "metadata": {},
     "output_type": "execute_result"
    }
   ],
   "source": [
    "df[df['ID_full'] == '10000_1000_500']['mean_sequential']"
   ]
  },
  {
   "cell_type": "code",
   "execution_count": 12,
   "id": "6254d578-6fda-4405-aeeb-cdff43f9e993",
   "metadata": {},
   "outputs": [
    {
     "data": {
      "text/plain": [
       "0         100_10_500\n",
       "1         100_10_500\n",
       "2         100_10_500\n",
       "3         100_10_500\n",
       "4         100_10_500\n",
       "           ...      \n",
       "82    10000_1000_500\n",
       "83    10000_1000_500\n",
       "84    10000_1000_500\n",
       "85    10000_1000_500\n",
       "86    10000_1000_500\n",
       "Name: vlookup_cated, Length: 87, dtype: object"
      ]
     },
     "execution_count": 12,
     "metadata": {},
     "output_type": "execute_result"
    }
   ],
   "source": [
    "df['vlookup_cated']"
   ]
  },
  {
   "cell_type": "code",
   "execution_count": 78,
   "id": "799924bc-55c6-4d91-acff-045c5e63d91f",
   "metadata": {},
   "outputs": [],
   "source": [
    "df[df.batch_size.isin([100, 500, 1000, 5000, 10000])].to_csv('generated_dense_batch_size.csv')"
   ]
  },
  {
   "cell_type": "code",
   "execution_count": 13,
   "id": "12d3a35e",
   "metadata": {},
   "outputs": [],
   "source": [
    "df.loc[df['method'] == 'pythonic', 'mean_sequential'] *= 24\n",
    "df.loc[df['method'] == 'pythonic', 'mean_reinit'] *= 24\n",
    "df.loc[df['method'] == 'pythonic', 'logMeanTime'] += np.log10(24)\n",
    "df.loc[df['method'] == 'pythonic', 'logMeanTimeReinit'] += np.log10(24)"
   ]
  },
  {
   "cell_type": "code",
   "execution_count": 14,
   "id": "24652be5",
   "metadata": {},
   "outputs": [],
   "source": [
    "matrices = {\n",
    "    'kendall': {},\n",
    "}\n",
    "\n",
    "matrices_sequential = {\n",
    "    'kendall': {},\n",
    "    'euclidean': {},\n",
    "    'pearson': {},\n",
    "}\n",
    "\n",
    "labels = {\n",
    "    'kendall': {},\n",
    "    'euclidean': {},\n",
    "    'pearson': {},\n",
    "}\n",
    "\n",
    "labels_sequential = {\n",
    "    'kendall': {},\n",
    "    'euclidean': {},\n",
    "    'pearson': {},\n",
    "}"
   ]
  },
  {
   "cell_type": "code",
   "execution_count": 15,
   "id": "d3f5b56f",
   "metadata": {},
   "outputs": [],
   "source": [
    "def fill_missing_values(matrix):\n",
    "    for i in range(1, 5):\n",
    "        try:\n",
    "            matrix.loc[i]\n",
    "        except:\n",
    "            print(i)\n",
    "            matrix.loc[i] = [np.nan, np.nan, np.nan, np.nan, np.nan]\n",
    "    \n",
    "    labels = np.round(np.copy(matrix), 1).tolist()\n",
    "    for i in range(1, 5):\n",
    "        for j in range(1, 6):\n",
    "            if i + j <= 7 and np.isnan(matrix.loc[i, j]):\n",
    "                label_i = i - 1\n",
    "                label_j = j - 1\n",
    "                matrix.loc[i, j] = 100\n",
    "                labels[label_i][label_j] = 'W'\n",
    "    matrix = matrix.loc[matrix.index[::-1]]\n",
    "    labels = labels[::-1]\n",
    "#     print(labels)\n",
    "    return matrix, labels"
   ]
  },
  {
   "cell_type": "code",
   "execution_count": 16,
   "id": "28aa1c04-47f8-4bc3-bec7-fe81dae158a3",
   "metadata": {},
   "outputs": [
    {
     "data": {
      "text/plain": [
       "{'kendall': {}}"
      ]
     },
     "execution_count": 16,
     "metadata": {},
     "output_type": "execute_result"
    }
   ],
   "source": [
    "matrices"
   ]
  },
  {
   "cell_type": "code",
   "execution_count": 17,
   "id": "11e125ed",
   "metadata": {},
   "outputs": [
    {
     "name": "stdout",
     "output_type": "stream",
     "text": [
      "1\n",
      "1\n"
     ]
    }
   ],
   "source": [
    "for metric in matrices.keys():\n",
    "    for num_batches in [1, 2, 5, 10, 20]:\n",
    "        \n",
    "#         print(metric, method)\n",
    "        matrix = df[df.metric == metric]\n",
    "        matrix_log = matrix[matrix.num_batches == num_batches].pivot('logWX','logWY','logMeanTimeReinit')\n",
    "        matrix_sequential = matrix[matrix.num_batches == num_batches].pivot('logWX', 'logWY', 'logMeanTime')\n",
    "        # print(metric, method, num_batches)\n",
    "        \n",
    "        matrix, label = fill_missing_values(matrix_log)\n",
    "        matrix_sequential, label_sequential = fill_missing_values(matrix_sequential)\n",
    "        \n",
    "        matrix.index = matrix.index.astype(int)\n",
    "        matrix.columns = matrix.columns.astype(int)\n",
    "        \n",
    "        matrix_sequential.index = matrix_sequential.index.astype(int)\n",
    "        matrix_sequential.columns = matrix_sequential.columns.astype(int)\n",
    "        \n",
    "        matrices_sequential[metric][num_batches] = matrix_sequential\n",
    "        matrices[metric][num_batches] = matrix\n",
    "        labels[metric][num_batches] = label\n",
    "        labels_sequential[metric][num_batches] = label_sequential"
   ]
  },
  {
   "cell_type": "code",
   "execution_count": 18,
   "id": "45b1db43",
   "metadata": {},
   "outputs": [],
   "source": [
    "import matplotlib.pyplot as plt"
   ]
  },
  {
   "cell_type": "code",
   "execution_count": 19,
   "id": "3aa5cf3a",
   "metadata": {},
   "outputs": [],
   "source": [
    "import seaborn as sns"
   ]
  },
  {
   "cell_type": "code",
   "execution_count": 20,
   "id": "3300529a",
   "metadata": {},
   "outputs": [],
   "source": [
    "cmap = sns.color_palette('coolwarm', as_cmap=True)"
   ]
  },
  {
   "cell_type": "code",
   "execution_count": 21,
   "id": "ff1c7013",
   "metadata": {},
   "outputs": [],
   "source": [
    "import matplotlib as mpl\n"
   ]
  },
  {
   "cell_type": "code",
   "execution_count": 23,
   "id": "9d4f7378",
   "metadata": {},
   "outputs": [],
   "source": [
    "methods = ['amap', 'factoextra', 'pythonic', 'pandas', 'CPU', 'GPU', 'sparse_CPU', 'sparse_GPU']\n",
    "\n",
    "palette = sns.palettes.color_palette()[:len(methods)]\n",
    "color_palette = {\n",
    "    method: pallete for method, pallete in zip(methods, palette)\n",
    "}"
   ]
  },
  {
   "cell_type": "code",
   "execution_count": 24,
   "id": "9e03da0c",
   "metadata": {},
   "outputs": [],
   "source": [
    "sparse_methods = ['amap', 'factoextra', 'pythonic', 'pandas', 'dense_CPU', 'dense_GPU', 'sparse_CPU', 'sparse_GPU']\n",
    "\n",
    "palette = sns.palettes.color_palette()[:len(methods)]\n",
    "sparse_color_palette = {\n",
    "    method: pallete for method, pallete in zip(sparse_methods, palette)\n",
    "}"
   ]
  },
  {
   "cell_type": "code",
   "execution_count": 26,
   "id": "83bf594d",
   "metadata": {},
   "outputs": [],
   "source": [
    "df = df[df['|W|'] > 10000]"
   ]
  },
  {
   "cell_type": "code",
   "execution_count": 27,
   "id": "48baa231",
   "metadata": {},
   "outputs": [],
   "source": [
    "hue_order = ['amap', 'factoextra', 'pandas','pythonic','CPU','GPU']"
   ]
  },
  {
   "cell_type": "code",
   "execution_count": 28,
   "id": "57d606b2",
   "metadata": {},
   "outputs": [],
   "source": [
    "TESTED_METHODS = hue_order"
   ]
  },
  {
   "cell_type": "markdown",
   "id": "2c9914cf",
   "metadata": {},
   "source": [
    "### Checking for wall-timed methods and add the to analysis"
   ]
  },
  {
   "cell_type": "code",
   "execution_count": 29,
   "id": "c670fc81",
   "metadata": {},
   "outputs": [],
   "source": [
    "df = df[df['|W|'] > 10000]\n",
    "index = 1000\n",
    "df_missed = df.copy()\n",
    "\n",
    "for method in TESTED_METHODS:\n",
    "    for metric in ['euclidean', 'pearson', 'kendall']:\n",
    "        for wX in [10, 100, 1000, 10000]:\n",
    "            for wY in [10, 100, 1000, 10000, 100000]:\n",
    "                if wX * wY > 10 ** 7 or wX * wY < 10 ** 5:\n",
    "                    continue\n",
    "                df_filtered = df[\n",
    "                    (df.method == method) & (df.wX == wX) & (df.wY == wY) & (df.metric == metric)\n",
    "                ]\n",
    "                if df_filtered.shape[0] > 0:\n",
    "                    continue\n",
    "                df_missed.loc[index] = {\n",
    "                    'metric': metric,\n",
    "                    'method': method,\n",
    "                    'wX': wX,\n",
    "                    'wY': wY,\n",
    "                    'ID': f'{wX}_{wY}',\n",
    "                    '|W|': wX * wY,\n",
    "                    'logWX': np.log10(wX),\n",
    "                    'logWY': np.log10(wY),\n",
    "                    'logMeanTime': 11.0,\n",
    "                    'logMeanTimeReinit': 11.0,\n",
    "                    'mean_reinit': 10 ** 11.0,\n",
    "                    'mean_sequential': 10 ** 11.0,\n",
    "                }\n",
    "                index += 1"
   ]
  },
  {
   "cell_type": "code",
   "execution_count": 38,
   "id": "a1973feb",
   "metadata": {},
   "outputs": [],
   "source": [
    "df['ID2'] = df['ID']+'_'+df['metric']\n",
    "df_missed['ID2'] = df_missed['ID'] + '_' + df_missed['metric']"
   ]
  },
  {
   "cell_type": "code",
   "execution_count": null,
   "id": "1a0184c8",
   "metadata": {},
   "outputs": [],
   "source": []
  },
  {
   "cell_type": "code",
   "execution_count": 41,
   "id": "b64f2240",
   "metadata": {},
   "outputs": [],
   "source": [
    "df_acc['logAcceleration_reinit'] = np.log10(df_acc['acceleration_reinit'])\n",
    "df_acc['logAcceleration_sequential'] = np.log10(df_acc['acceleration_sequential'])\n",
    "df_acc['|W|'] = df_acc['wX']*df_acc['wY']\n",
    "df_acc['Method'] = df_acc['metric']+'_'+df_acc['method']"
   ]
  },
  {
   "cell_type": "code",
   "execution_count": 42,
   "id": "a95475ae",
   "metadata": {},
   "outputs": [],
   "source": [
    "TESTED_METHODS = [\"pythonic\",\"pandas\",\"factoextra\",\"amap\", \"CPU\",]"
   ]
  },
  {
   "cell_type": "code",
   "execution_count": 43,
   "id": "3809060c",
   "metadata": {},
   "outputs": [],
   "source": [
    "from matplotlib.patches import PathPatch, Rectangle"
   ]
  },
  {
   "cell_type": "code",
   "execution_count": 44,
   "id": "cf84ef05",
   "metadata": {},
   "outputs": [],
   "source": [
    "df.loc[df.method == 'CPU', 'method'] = 'GADES-CPU-dense'\n",
    "df.loc[df.method == 'GPU', 'method'] = 'GADES-GPU-dense'\n",
    "\n",
    "df_acc.loc[df_acc.method == 'CPU', 'method'] = 'GADES-CPU-dense'\n",
    "df_acc.loc[df_acc.method == 'GPU', 'method'] = 'GADES-GPU-dense'\n",
    "\n",
    "df_missed.loc[df_missed.method == 'CPU', 'method'] = 'GADES-CPU-dense'\n",
    "df_missed.loc[df_missed.method == 'GPU', 'method'] = 'GADES-GPU-dense'\n",
    "color_palette['GADES-CPU-dense'] = color_palette['CPU']\n",
    "color_palette['GADES-GPU-dense'] = color_palette['GPU']\n",
    "\n",
    "for dataframe in [df, df_acc, df_missed]:\n",
    "    dataframe.loc[dataframe.method == 'pythonic', 'method'] = 'scipy'\n",
    "    \n",
    "color_palette['pythonic'] = 'scipy'"
   ]
  },
  {
   "cell_type": "code",
   "execution_count": 45,
   "id": "d567f265",
   "metadata": {},
   "outputs": [],
   "source": [
    "TESTED_METHODS = ['scipy', 'pandas', 'factoextra', 'amap', 'GADES-CPU-dense']"
   ]
  },
  {
   "cell_type": "code",
   "execution_count": 46,
   "id": "d08a844f",
   "metadata": {},
   "outputs": [],
   "source": [
    "import os"
   ]
  },
  {
   "cell_type": "code",
   "execution_count": 47,
   "id": "39ac30af",
   "metadata": {},
   "outputs": [],
   "source": [
    "def normalize(x):\n",
    "    \n",
    "    mapping = [10 ** 5, 10 ** 6, 10 ** 7]\n",
    "    results = [5, 6, 7]\n",
    "    \n",
    "    values = {\n",
    "        element: value for element, value in zip(mapping, results)\n",
    "    }\n",
    "    return f'$10^{values[x]}$'"
   ]
  },
  {
   "cell_type": "code",
   "execution_count": 15,
   "id": "9a0f0436",
   "metadata": {},
   "outputs": [],
   "source": [
    "import os"
   ]
  },
  {
   "cell_type": "code",
   "execution_count": 48,
   "id": "92a4241a-835e-43da-a733-09f9660c74de",
   "metadata": {},
   "outputs": [],
   "source": [
    "df_sparse = pd.read_csv('../data/sparse_generated_batch_size.csv')"
   ]
  },
  {
   "cell_type": "code",
   "execution_count": 49,
   "id": "6bc3c6b6",
   "metadata": {},
   "outputs": [],
   "source": [
    "df_sparse['logW'] = np.log10(df_sparse['|W|'])"
   ]
  },
  {
   "cell_type": "code",
   "execution_count": 50,
   "id": "f0a79d43-d21a-43fe-9f85-54904c428569",
   "metadata": {},
   "outputs": [
    {
     "data": {
      "text/html": [
       "<div>\n",
       "<style scoped>\n",
       "    .dataframe tbody tr th:only-of-type {\n",
       "        vertical-align: middle;\n",
       "    }\n",
       "\n",
       "    .dataframe tbody tr th {\n",
       "        vertical-align: top;\n",
       "    }\n",
       "\n",
       "    .dataframe thead th {\n",
       "        text-align: right;\n",
       "    }\n",
       "</style>\n",
       "<table border=\"1\" class=\"dataframe\">\n",
       "  <thead>\n",
       "    <tr style=\"text-align: right;\">\n",
       "      <th></th>\n",
       "      <th>DataFile</th>\n",
       "      <th>metric</th>\n",
       "      <th>method</th>\n",
       "      <th>wX</th>\n",
       "      <th>wY</th>\n",
       "      <th>ID</th>\n",
       "      <th>|W|</th>\n",
       "      <th>logWX</th>\n",
       "      <th>logWY</th>\n",
       "      <th>logMeanTime</th>\n",
       "      <th>...</th>\n",
       "      <th>maxTime</th>\n",
       "      <th>mean_reinit</th>\n",
       "      <th>mean_sequential</th>\n",
       "      <th>sd</th>\n",
       "      <th>Method</th>\n",
       "      <th>sparsity</th>\n",
       "      <th>batch_size</th>\n",
       "      <th>num_batches</th>\n",
       "      <th>val_2</th>\n",
       "      <th>logW</th>\n",
       "    </tr>\n",
       "  </thead>\n",
       "  <tbody>\n",
       "    <tr>\n",
       "      <th>19</th>\n",
       "      <td>../results/GeneratedSparseBatchSizeFixed/10000...</td>\n",
       "      <td>kendall</td>\n",
       "      <td>GPU</td>\n",
       "      <td>10000</td>\n",
       "      <td>10</td>\n",
       "      <td>10000_10</td>\n",
       "      <td>100000</td>\n",
       "      <td>4.0</td>\n",
       "      <td>1.0</td>\n",
       "      <td>6.252425</td>\n",
       "      <td>...</td>\n",
       "      <td>1.844286e+06</td>\n",
       "      <td>1.844286e+06</td>\n",
       "      <td>1.788238e+06</td>\n",
       "      <td>56047.500</td>\n",
       "      <td>kendall_GPU</td>\n",
       "      <td>0.90</td>\n",
       "      <td>500</td>\n",
       "      <td>20.0</td>\n",
       "      <td>1.732191e+06</td>\n",
       "      <td>5.0</td>\n",
       "    </tr>\n",
       "    <tr>\n",
       "      <th>24</th>\n",
       "      <td>../results/GeneratedSparseBatchSizeFixed/10000...</td>\n",
       "      <td>kendall</td>\n",
       "      <td>GPU</td>\n",
       "      <td>10000</td>\n",
       "      <td>10</td>\n",
       "      <td>10000_10</td>\n",
       "      <td>100000</td>\n",
       "      <td>4.0</td>\n",
       "      <td>1.0</td>\n",
       "      <td>6.076216</td>\n",
       "      <td>...</td>\n",
       "      <td>1.210348e+06</td>\n",
       "      <td>1.210348e+06</td>\n",
       "      <td>1.191835e+06</td>\n",
       "      <td>18513.625</td>\n",
       "      <td>kendall_GPU</td>\n",
       "      <td>0.95</td>\n",
       "      <td>500</td>\n",
       "      <td>20.0</td>\n",
       "      <td>1.173321e+06</td>\n",
       "      <td>5.0</td>\n",
       "    </tr>\n",
       "    <tr>\n",
       "      <th>29</th>\n",
       "      <td>../results/GeneratedSparseBatchSizeFixed/10000...</td>\n",
       "      <td>kendall</td>\n",
       "      <td>GPU</td>\n",
       "      <td>10000</td>\n",
       "      <td>10</td>\n",
       "      <td>10000_10</td>\n",
       "      <td>100000</td>\n",
       "      <td>4.0</td>\n",
       "      <td>1.0</td>\n",
       "      <td>6.668705</td>\n",
       "      <td>...</td>\n",
       "      <td>4.690292e+06</td>\n",
       "      <td>4.690292e+06</td>\n",
       "      <td>4.663428e+06</td>\n",
       "      <td>26864.125</td>\n",
       "      <td>kendall_GPU</td>\n",
       "      <td>0.75</td>\n",
       "      <td>500</td>\n",
       "      <td>20.0</td>\n",
       "      <td>4.636564e+06</td>\n",
       "      <td>5.0</td>\n",
       "    </tr>\n",
       "    <tr>\n",
       "      <th>34</th>\n",
       "      <td>../results/GeneratedSparseBatchSizeFixed/10000...</td>\n",
       "      <td>kendall</td>\n",
       "      <td>GPU</td>\n",
       "      <td>10000</td>\n",
       "      <td>10</td>\n",
       "      <td>10000_10</td>\n",
       "      <td>100000</td>\n",
       "      <td>4.0</td>\n",
       "      <td>1.0</td>\n",
       "      <td>5.993583</td>\n",
       "      <td>...</td>\n",
       "      <td>1.011913e+06</td>\n",
       "      <td>1.011913e+06</td>\n",
       "      <td>9.853320e+05</td>\n",
       "      <td>26581.000</td>\n",
       "      <td>kendall_GPU</td>\n",
       "      <td>0.99</td>\n",
       "      <td>500</td>\n",
       "      <td>20.0</td>\n",
       "      <td>9.587510e+05</td>\n",
       "      <td>5.0</td>\n",
       "    </tr>\n",
       "    <tr>\n",
       "      <th>39</th>\n",
       "      <td>../results/GeneratedSparseBatchSizeFixed/10000...</td>\n",
       "      <td>kendall</td>\n",
       "      <td>GPU</td>\n",
       "      <td>10000</td>\n",
       "      <td>10</td>\n",
       "      <td>10000_10</td>\n",
       "      <td>100000</td>\n",
       "      <td>4.0</td>\n",
       "      <td>1.0</td>\n",
       "      <td>7.047525</td>\n",
       "      <td>...</td>\n",
       "      <td>1.117713e+07</td>\n",
       "      <td>1.117713e+07</td>\n",
       "      <td>1.115642e+07</td>\n",
       "      <td>20704.125</td>\n",
       "      <td>kendall_GPU</td>\n",
       "      <td>0.50</td>\n",
       "      <td>500</td>\n",
       "      <td>20.0</td>\n",
       "      <td>1.113572e+07</td>\n",
       "      <td>5.0</td>\n",
       "    </tr>\n",
       "    <tr>\n",
       "      <th>64</th>\n",
       "      <td>../results/GeneratedSparseBatchSizeFixed/10000...</td>\n",
       "      <td>kendall</td>\n",
       "      <td>GPU</td>\n",
       "      <td>10000</td>\n",
       "      <td>100</td>\n",
       "      <td>10000_100</td>\n",
       "      <td>1000000</td>\n",
       "      <td>4.0</td>\n",
       "      <td>2.0</td>\n",
       "      <td>6.416696</td>\n",
       "      <td>...</td>\n",
       "      <td>2.646187e+06</td>\n",
       "      <td>2.646187e+06</td>\n",
       "      <td>2.610334e+06</td>\n",
       "      <td>35852.750</td>\n",
       "      <td>kendall_GPU</td>\n",
       "      <td>0.90</td>\n",
       "      <td>500</td>\n",
       "      <td>20.0</td>\n",
       "      <td>2.574482e+06</td>\n",
       "      <td>6.0</td>\n",
       "    </tr>\n",
       "    <tr>\n",
       "      <th>69</th>\n",
       "      <td>../results/GeneratedSparseBatchSizeFixed/10000...</td>\n",
       "      <td>kendall</td>\n",
       "      <td>GPU</td>\n",
       "      <td>10000</td>\n",
       "      <td>100</td>\n",
       "      <td>10000_100</td>\n",
       "      <td>1000000</td>\n",
       "      <td>4.0</td>\n",
       "      <td>2.0</td>\n",
       "      <td>6.183106</td>\n",
       "      <td>...</td>\n",
       "      <td>1.532374e+06</td>\n",
       "      <td>1.532374e+06</td>\n",
       "      <td>1.524425e+06</td>\n",
       "      <td>7948.625</td>\n",
       "      <td>kendall_GPU</td>\n",
       "      <td>0.95</td>\n",
       "      <td>500</td>\n",
       "      <td>20.0</td>\n",
       "      <td>1.516476e+06</td>\n",
       "      <td>6.0</td>\n",
       "    </tr>\n",
       "    <tr>\n",
       "      <th>74</th>\n",
       "      <td>../results/GeneratedSparseBatchSizeFixed/10000...</td>\n",
       "      <td>kendall</td>\n",
       "      <td>GPU</td>\n",
       "      <td>10000</td>\n",
       "      <td>100</td>\n",
       "      <td>10000_100</td>\n",
       "      <td>1000000</td>\n",
       "      <td>4.0</td>\n",
       "      <td>2.0</td>\n",
       "      <td>6.989075</td>\n",
       "      <td>...</td>\n",
       "      <td>9.782767e+06</td>\n",
       "      <td>9.782767e+06</td>\n",
       "      <td>9.751587e+06</td>\n",
       "      <td>31179.500</td>\n",
       "      <td>kendall_GPU</td>\n",
       "      <td>0.75</td>\n",
       "      <td>500</td>\n",
       "      <td>20.0</td>\n",
       "      <td>9.720408e+06</td>\n",
       "      <td>6.0</td>\n",
       "    </tr>\n",
       "    <tr>\n",
       "      <th>79</th>\n",
       "      <td>../results/GeneratedSparseBatchSizeFixed/10000...</td>\n",
       "      <td>kendall</td>\n",
       "      <td>GPU</td>\n",
       "      <td>10000</td>\n",
       "      <td>100</td>\n",
       "      <td>10000_100</td>\n",
       "      <td>1000000</td>\n",
       "      <td>4.0</td>\n",
       "      <td>2.0</td>\n",
       "      <td>6.022363</td>\n",
       "      <td>...</td>\n",
       "      <td>1.064532e+06</td>\n",
       "      <td>1.041152e+06</td>\n",
       "      <td>1.052842e+06</td>\n",
       "      <td>11689.750</td>\n",
       "      <td>kendall_GPU</td>\n",
       "      <td>0.99</td>\n",
       "      <td>500</td>\n",
       "      <td>20.0</td>\n",
       "      <td>1.064532e+06</td>\n",
       "      <td>6.0</td>\n",
       "    </tr>\n",
       "    <tr>\n",
       "      <th>84</th>\n",
       "      <td>../results/GeneratedSparseBatchSizeFixed/10000...</td>\n",
       "      <td>kendall</td>\n",
       "      <td>GPU</td>\n",
       "      <td>10000</td>\n",
       "      <td>100</td>\n",
       "      <td>10000_100</td>\n",
       "      <td>1000000</td>\n",
       "      <td>4.0</td>\n",
       "      <td>2.0</td>\n",
       "      <td>7.468746</td>\n",
       "      <td>...</td>\n",
       "      <td>2.957236e+07</td>\n",
       "      <td>2.957236e+07</td>\n",
       "      <td>2.942698e+07</td>\n",
       "      <td>145386.125</td>\n",
       "      <td>kendall_GPU</td>\n",
       "      <td>0.50</td>\n",
       "      <td>500</td>\n",
       "      <td>20.0</td>\n",
       "      <td>2.928159e+07</td>\n",
       "      <td>6.0</td>\n",
       "    </tr>\n",
       "    <tr>\n",
       "      <th>114</th>\n",
       "      <td>../results/GeneratedSparseBatchSizeFixed/10000...</td>\n",
       "      <td>kendall</td>\n",
       "      <td>GPU</td>\n",
       "      <td>10000</td>\n",
       "      <td>1000</td>\n",
       "      <td>10000_1000</td>\n",
       "      <td>10000000</td>\n",
       "      <td>4.0</td>\n",
       "      <td>3.0</td>\n",
       "      <td>7.217694</td>\n",
       "      <td>...</td>\n",
       "      <td>1.668569e+07</td>\n",
       "      <td>1.668569e+07</td>\n",
       "      <td>1.650797e+07</td>\n",
       "      <td>177714.750</td>\n",
       "      <td>kendall_GPU</td>\n",
       "      <td>0.90</td>\n",
       "      <td>500</td>\n",
       "      <td>20.0</td>\n",
       "      <td>1.633026e+07</td>\n",
       "      <td>7.0</td>\n",
       "    </tr>\n",
       "    <tr>\n",
       "      <th>119</th>\n",
       "      <td>../results/GeneratedSparseBatchSizeFixed/10000...</td>\n",
       "      <td>kendall</td>\n",
       "      <td>GPU</td>\n",
       "      <td>10000</td>\n",
       "      <td>1000</td>\n",
       "      <td>10000_1000</td>\n",
       "      <td>10000000</td>\n",
       "      <td>4.0</td>\n",
       "      <td>3.0</td>\n",
       "      <td>6.709718</td>\n",
       "      <td>...</td>\n",
       "      <td>5.290880e+06</td>\n",
       "      <td>5.290880e+06</td>\n",
       "      <td>5.125289e+06</td>\n",
       "      <td>165591.125</td>\n",
       "      <td>kendall_GPU</td>\n",
       "      <td>0.95</td>\n",
       "      <td>500</td>\n",
       "      <td>20.0</td>\n",
       "      <td>4.959698e+06</td>\n",
       "      <td>7.0</td>\n",
       "    </tr>\n",
       "    <tr>\n",
       "      <th>124</th>\n",
       "      <td>../results/GeneratedSparseBatchSizeFixed/10000...</td>\n",
       "      <td>kendall</td>\n",
       "      <td>GPU</td>\n",
       "      <td>10000</td>\n",
       "      <td>1000</td>\n",
       "      <td>10000_1000</td>\n",
       "      <td>10000000</td>\n",
       "      <td>4.0</td>\n",
       "      <td>3.0</td>\n",
       "      <td>7.921050</td>\n",
       "      <td>...</td>\n",
       "      <td>8.462261e+07</td>\n",
       "      <td>8.213282e+07</td>\n",
       "      <td>8.337771e+07</td>\n",
       "      <td>1244894.125</td>\n",
       "      <td>kendall_GPU</td>\n",
       "      <td>0.75</td>\n",
       "      <td>500</td>\n",
       "      <td>20.0</td>\n",
       "      <td>8.462261e+07</td>\n",
       "      <td>7.0</td>\n",
       "    </tr>\n",
       "    <tr>\n",
       "      <th>129</th>\n",
       "      <td>../results/GeneratedSparseBatchSizeFixed/10000...</td>\n",
       "      <td>kendall</td>\n",
       "      <td>GPU</td>\n",
       "      <td>10000</td>\n",
       "      <td>1000</td>\n",
       "      <td>10000_1000</td>\n",
       "      <td>10000000</td>\n",
       "      <td>4.0</td>\n",
       "      <td>3.0</td>\n",
       "      <td>6.085885</td>\n",
       "      <td>...</td>\n",
       "      <td>1.316925e+06</td>\n",
       "      <td>1.316925e+06</td>\n",
       "      <td>1.218666e+06</td>\n",
       "      <td>98259.250</td>\n",
       "      <td>kendall_GPU</td>\n",
       "      <td>0.99</td>\n",
       "      <td>500</td>\n",
       "      <td>20.0</td>\n",
       "      <td>1.120406e+06</td>\n",
       "      <td>7.0</td>\n",
       "    </tr>\n",
       "    <tr>\n",
       "      <th>134</th>\n",
       "      <td>../results/GeneratedSparseBatchSizeFixed/10000...</td>\n",
       "      <td>kendall</td>\n",
       "      <td>GPU</td>\n",
       "      <td>10000</td>\n",
       "      <td>1000</td>\n",
       "      <td>10000_1000</td>\n",
       "      <td>10000000</td>\n",
       "      <td>4.0</td>\n",
       "      <td>3.0</td>\n",
       "      <td>8.402628</td>\n",
       "      <td>...</td>\n",
       "      <td>2.542860e+08</td>\n",
       "      <td>2.511409e+08</td>\n",
       "      <td>2.527134e+08</td>\n",
       "      <td>1572552.375</td>\n",
       "      <td>kendall_GPU</td>\n",
       "      <td>0.50</td>\n",
       "      <td>500</td>\n",
       "      <td>20.0</td>\n",
       "      <td>2.542860e+08</td>\n",
       "      <td>7.0</td>\n",
       "    </tr>\n",
       "  </tbody>\n",
       "</table>\n",
       "<p>15 rows × 24 columns</p>\n",
       "</div>"
      ],
      "text/plain": [
       "                                              DataFile   metric method     wX  \\\n",
       "19   ../results/GeneratedSparseBatchSizeFixed/10000...  kendall    GPU  10000   \n",
       "24   ../results/GeneratedSparseBatchSizeFixed/10000...  kendall    GPU  10000   \n",
       "29   ../results/GeneratedSparseBatchSizeFixed/10000...  kendall    GPU  10000   \n",
       "34   ../results/GeneratedSparseBatchSizeFixed/10000...  kendall    GPU  10000   \n",
       "39   ../results/GeneratedSparseBatchSizeFixed/10000...  kendall    GPU  10000   \n",
       "64   ../results/GeneratedSparseBatchSizeFixed/10000...  kendall    GPU  10000   \n",
       "69   ../results/GeneratedSparseBatchSizeFixed/10000...  kendall    GPU  10000   \n",
       "74   ../results/GeneratedSparseBatchSizeFixed/10000...  kendall    GPU  10000   \n",
       "79   ../results/GeneratedSparseBatchSizeFixed/10000...  kendall    GPU  10000   \n",
       "84   ../results/GeneratedSparseBatchSizeFixed/10000...  kendall    GPU  10000   \n",
       "114  ../results/GeneratedSparseBatchSizeFixed/10000...  kendall    GPU  10000   \n",
       "119  ../results/GeneratedSparseBatchSizeFixed/10000...  kendall    GPU  10000   \n",
       "124  ../results/GeneratedSparseBatchSizeFixed/10000...  kendall    GPU  10000   \n",
       "129  ../results/GeneratedSparseBatchSizeFixed/10000...  kendall    GPU  10000   \n",
       "134  ../results/GeneratedSparseBatchSizeFixed/10000...  kendall    GPU  10000   \n",
       "\n",
       "       wY          ID       |W|  logWX  logWY  logMeanTime  ...       maxTime  \\\n",
       "19     10    10000_10    100000    4.0    1.0     6.252425  ...  1.844286e+06   \n",
       "24     10    10000_10    100000    4.0    1.0     6.076216  ...  1.210348e+06   \n",
       "29     10    10000_10    100000    4.0    1.0     6.668705  ...  4.690292e+06   \n",
       "34     10    10000_10    100000    4.0    1.0     5.993583  ...  1.011913e+06   \n",
       "39     10    10000_10    100000    4.0    1.0     7.047525  ...  1.117713e+07   \n",
       "64    100   10000_100   1000000    4.0    2.0     6.416696  ...  2.646187e+06   \n",
       "69    100   10000_100   1000000    4.0    2.0     6.183106  ...  1.532374e+06   \n",
       "74    100   10000_100   1000000    4.0    2.0     6.989075  ...  9.782767e+06   \n",
       "79    100   10000_100   1000000    4.0    2.0     6.022363  ...  1.064532e+06   \n",
       "84    100   10000_100   1000000    4.0    2.0     7.468746  ...  2.957236e+07   \n",
       "114  1000  10000_1000  10000000    4.0    3.0     7.217694  ...  1.668569e+07   \n",
       "119  1000  10000_1000  10000000    4.0    3.0     6.709718  ...  5.290880e+06   \n",
       "124  1000  10000_1000  10000000    4.0    3.0     7.921050  ...  8.462261e+07   \n",
       "129  1000  10000_1000  10000000    4.0    3.0     6.085885  ...  1.316925e+06   \n",
       "134  1000  10000_1000  10000000    4.0    3.0     8.402628  ...  2.542860e+08   \n",
       "\n",
       "      mean_reinit  mean_sequential           sd       Method  sparsity  \\\n",
       "19   1.844286e+06     1.788238e+06    56047.500  kendall_GPU      0.90   \n",
       "24   1.210348e+06     1.191835e+06    18513.625  kendall_GPU      0.95   \n",
       "29   4.690292e+06     4.663428e+06    26864.125  kendall_GPU      0.75   \n",
       "34   1.011913e+06     9.853320e+05    26581.000  kendall_GPU      0.99   \n",
       "39   1.117713e+07     1.115642e+07    20704.125  kendall_GPU      0.50   \n",
       "64   2.646187e+06     2.610334e+06    35852.750  kendall_GPU      0.90   \n",
       "69   1.532374e+06     1.524425e+06     7948.625  kendall_GPU      0.95   \n",
       "74   9.782767e+06     9.751587e+06    31179.500  kendall_GPU      0.75   \n",
       "79   1.041152e+06     1.052842e+06    11689.750  kendall_GPU      0.99   \n",
       "84   2.957236e+07     2.942698e+07   145386.125  kendall_GPU      0.50   \n",
       "114  1.668569e+07     1.650797e+07   177714.750  kendall_GPU      0.90   \n",
       "119  5.290880e+06     5.125289e+06   165591.125  kendall_GPU      0.95   \n",
       "124  8.213282e+07     8.337771e+07  1244894.125  kendall_GPU      0.75   \n",
       "129  1.316925e+06     1.218666e+06    98259.250  kendall_GPU      0.99   \n",
       "134  2.511409e+08     2.527134e+08  1572552.375  kendall_GPU      0.50   \n",
       "\n",
       "     batch_size  num_batches         val_2  logW  \n",
       "19          500         20.0  1.732191e+06   5.0  \n",
       "24          500         20.0  1.173321e+06   5.0  \n",
       "29          500         20.0  4.636564e+06   5.0  \n",
       "34          500         20.0  9.587510e+05   5.0  \n",
       "39          500         20.0  1.113572e+07   5.0  \n",
       "64          500         20.0  2.574482e+06   6.0  \n",
       "69          500         20.0  1.516476e+06   6.0  \n",
       "74          500         20.0  9.720408e+06   6.0  \n",
       "79          500         20.0  1.064532e+06   6.0  \n",
       "84          500         20.0  2.928159e+07   6.0  \n",
       "114         500         20.0  1.633026e+07   7.0  \n",
       "119         500         20.0  4.959698e+06   7.0  \n",
       "124         500         20.0  8.462261e+07   7.0  \n",
       "129         500         20.0  1.120406e+06   7.0  \n",
       "134         500         20.0  2.542860e+08   7.0  \n",
       "\n",
       "[15 rows x 24 columns]"
      ]
     },
     "execution_count": 50,
     "metadata": {},
     "output_type": "execute_result"
    }
   ],
   "source": [
    "df_sparse[df_sparse.num_batches == 20]"
   ]
  },
  {
   "cell_type": "code",
   "execution_count": 51,
   "id": "516450a3-0c84-430c-8803-a7e781222ece",
   "metadata": {},
   "outputs": [],
   "source": [
    "df_sparse['ID_full'] = df_sparse.apply(lambda x: f'{x[\"ID\"]}_{x[\"sparsity\"]}_{x[\"batch_size\"]}', axis=1)"
   ]
  },
  {
   "cell_type": "code",
   "execution_count": 52,
   "id": "e52498a9-bc5d-41bc-b6af-161a918051dc",
   "metadata": {},
   "outputs": [],
   "source": [
    "def get_category(x):\n",
    "    return f'{x[\"ID\"]}_{x[\"sparsity\"]}_{x[\"batch_size\"]}'\n",
    "\n",
    "def get_category_lookup(x):\n",
    "    return f'{x[\"ID\"]}_{x[\"sparsity\"]}_500'\n",
    "\n",
    "def vlookup(df, x):\n",
    "    try:\n",
    "        return df.set_index('ID_full').loc[x['vlookup_cated'], 'mean_sequential']\n",
    "    except:\n",
    "        # Skip values when batch size 500 is the same as lower batch sizes\n",
    "        return x['mean_sequential']"
   ]
  },
  {
   "cell_type": "code",
   "execution_count": 53,
   "id": "d92e2eb0-6f7b-48cb-9aca-79f394e2c586",
   "metadata": {},
   "outputs": [
    {
     "data": {
      "text/plain": [
       "Index(['DataFile', 'metric', 'method', 'wX', 'wY', 'ID', '|W|', 'logWX',\n",
       "       'logWY', 'logMeanTime', 'logMeanTimeReinit', 'logMinTime', 'logMaxTime',\n",
       "       'minTime', 'maxTime', 'mean_reinit', 'mean_sequential', 'sd', 'Method',\n",
       "       'sparsity', 'batch_size', 'num_batches', 'val_2', 'logW', 'ID_full'],\n",
       "      dtype='object')"
      ]
     },
     "execution_count": 53,
     "metadata": {},
     "output_type": "execute_result"
    }
   ],
   "source": [
    "df_sparse.columns"
   ]
  },
  {
   "cell_type": "code",
   "execution_count": 54,
   "id": "b18c5e19-6e7f-4371-9d3e-5351fe0c5ac3",
   "metadata": {},
   "outputs": [],
   "source": [
    "df_sparse['vlookup_cated'] = df_sparse.apply(get_category_lookup, axis=1)\n",
    "    \n",
    "df_sparse['base'] = df_sparse.apply(lambda x: vlookup(df_sparse, x), axis=1)\n",
    "df_sparse['acceleration'] = df_sparse['base'] / df_sparse['mean_sequential']"
   ]
  },
  {
   "cell_type": "code",
   "execution_count": 55,
   "id": "2feb7267-a798-4e1d-bdc6-106f1142bf6a",
   "metadata": {},
   "outputs": [
    {
     "data": {
      "image/png": "[encoded data removed]",
      "text/plain": [
       "<Figure size 1440x2160 with 3 Axes>"
      ]
     },
     "metadata": {
      "needs_background": "light"
     },
     "output_type": "display_data"
    }
   ],
   "source": [
    "fig, ax = plt.subplots(nrows=3, ncols=1, figsize=(20, 30))\n",
    "\n",
    "num_counts = [100000, 10 ** 6, 10 ** 7]\n",
    "FONT_SIZE=20\n",
    "for index, current_ax in enumerate(ax):\n",
    "    num_count = num_counts[index]\n",
    "    plot = sns.boxplot(ax=current_ax, data=df_sparse[df_sparse['|W|'] == num_count], x='sparsity', hue='batch_size', y='acceleration')\n",
    "    \n",
    "    plot.set_title(f'$|W| = 10^{np.log10(num_count).astype(int)}$', fontsize=FONT_SIZE * 2)\n",
    "    xlabel = '' if index < 2 else 'Sparsity degree'\n",
    "    plot.set_xlabel(xlabel, fontsize=FONT_SIZE * 1.5)\n",
    "    # ylabel = ylabel if jndex == 0 else ''\n",
    "    plot.set_ylabel('Acceleration', fontsize=FONT_SIZE * 1.5)\n",
    "    current_ax.tick_params(labelsize=FONT_SIZE * 1.5)\n",
    "\n",
    "fig.savefig('suppfigure3.png', bbox_inches='tight', dpi=200)"
   ]
  },
  {
   "cell_type": "code",
   "execution_count": 56,
   "id": "34296dee-8f0b-4491-b95b-3579df80ad30",
   "metadata": {},
   "outputs": [],
   "source": [
    "df_sparse.to_csv('generated_sparse_batch_size.csv')"
   ]
  }
 ],
 "metadata": {
  "kernelspec": {
   "display_name": "Python 3 (ipykernel)",
   "language": "python",
   "name": "python3"
  },
  "language_info": {
   "codemirror_mode": {
    "name": "ipython",
    "version": 3
   },
   "file_extension": ".py",
   "mimetype": "text/x-python",
   "name": "python",
   "nbconvert_exporter": "python",
   "pygments_lexer": "ipython3",
   "version": "3.8.10"
  }
 },
 "nbformat": 4,
 "nbformat_minor": 5
}

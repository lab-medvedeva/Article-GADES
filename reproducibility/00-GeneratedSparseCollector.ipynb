{
 "cells": [
  {
   "cell_type": "code",
   "execution_count": 1,
   "id": "c967476a",
   "metadata": {},
   "outputs": [],
   "source": [
    "import pandas as pd"
   ]
  },
  {
   "cell_type": "code",
   "execution_count": 2,
   "id": "5b4759b7",
   "metadata": {},
   "outputs": [],
   "source": [
    "import os"
   ]
  },
  {
   "cell_type": "code",
   "execution_count": 3,
   "id": "8d536323",
   "metadata": {},
   "outputs": [],
   "source": [
    "import glob"
   ]
  },
  {
   "cell_type": "code",
   "execution_count": 4,
   "id": "fb1bc4d7",
   "metadata": {},
   "outputs": [],
   "source": [
    "import re"
   ]
  },
  {
   "cell_type": "code",
   "execution_count": 5,
   "id": "f684f4f5",
   "metadata": {},
   "outputs": [],
   "source": [
    "pattern = re.compile(\n",
    "    r'../results/GeneratedSparse/(?P<cells>\\d+)_cells_(?P<features>\\d+)_features/(?P<sparsity>\\d+\\.\\d+)_(?P<method>\\w+)_(?P<metric>\\w+).csv'\n",
    ")"
   ]
  },
  {
   "cell_type": "code",
   "execution_count": 6,
   "id": "19146ae3",
   "metadata": {},
   "outputs": [],
   "source": [
    "import numpy as np"
   ]
  },
  {
   "cell_type": "code",
   "execution_count": 7,
   "id": "cf53d322",
   "metadata": {},
   "outputs": [
    {
     "name": "stderr",
     "output_type": "stream",
     "text": [
      "/home/akhtyamovpavel/PythonEnvironments/BioInfoPython37/lib/python3.7/site-packages/ipykernel_launcher.py:29: RuntimeWarning: divide by zero encountered in log10\n"
     ]
    }
   ],
   "source": [
    "results = []\n",
    "\n",
    "for filename in glob.glob('../results/GeneratedSparse/*_cells_*features/*_*_*.csv'):\n",
    "    group = pattern.match(filename)\n",
    "    \n",
    "    cells = int(group.group('cells'))\n",
    "    features = int(group.group('features'))\n",
    "    method = group.group('method')\n",
    "    metric = group.group('metric')\n",
    "    sparsity = group.group('sparsity')\n",
    "    \n",
    "#     print(cells, features, method, metric)\n",
    "    df = pd.read_csv(filename)\n",
    "    \n",
    "    elements_reinit = df.loc[:1, df.columns[0]]\n",
    "    elements_sequential = df.loc[:, df.columns[0]]\n",
    "    values = {\n",
    "        'DataFile': filename,\n",
    "        'metric': metric,\n",
    "        'method': method,\n",
    "        'wX': cells,\n",
    "        'wY': features,\n",
    "        'ID': f'{cells}_{features}',\n",
    "        '|W|': cells * features,\n",
    "        'logWX': np.log10(cells),\n",
    "        'logWY': np.log10(features),\n",
    "        'logMeanTime': np.log10(np.mean(elements_sequential)),\n",
    "        'logMeanTimeReinit': np.log10(np.mean(elements_reinit)),\n",
    "        'logMinTime': np.log10(np.min(elements_sequential)),\n",
    "        'logMaxTime': np.log10(np.max(elements_sequential)),\n",
    "        'minTime': np.min(elements_sequential),\n",
    "        'maxTime': np.max(elements_sequential),\n",
    "        'mean_reinit': np.mean(elements_reinit),\n",
    "        'mean_sequential': np.mean(elements_sequential),\n",
    "        'sd': np.std(elements_sequential),\n",
    "        'Method': f'{metric}_{method}',\n",
    "        'sparsity': sparsity,\n",
    "    }\n",
    "    \n",
    "    for i in range(1, df.shape[0]):\n",
    "        val = df.iloc[i][df.columns[0]]\n",
    "        if val > 0:\n",
    "            values[f'val_{i + 1}'] = val\n",
    "        \n",
    "    results.append(values)"
   ]
  },
  {
   "cell_type": "code",
   "execution_count": 8,
   "id": "7d7b48bf",
   "metadata": {},
   "outputs": [],
   "source": [
    "final_df = pd.DataFrame(results)"
   ]
  },
  {
   "cell_type": "code",
   "execution_count": 9,
   "id": "1314614a",
   "metadata": {},
   "outputs": [
    {
     "data": {
      "text/plain": [
       "Index(['DataFile', 'metric', 'method', 'wX', 'wY', 'ID', '|W|', 'logWX',\n",
       "       'logWY', 'logMeanTime', 'logMeanTimeReinit', 'logMinTime', 'logMaxTime',\n",
       "       'minTime', 'maxTime', 'mean_reinit', 'mean_sequential', 'sd', 'Method',\n",
       "       'sparsity', 'val_2', 'val_3', 'val_4', 'val_5', 'val_6', 'val_7',\n",
       "       'val_8', 'val_9', 'val_10', 'val_11', 'val_12', 'val_13', 'val_14',\n",
       "       'val_15', 'val_16', 'val_17', 'val_18', 'val_19', 'val_20', 'val_21',\n",
       "       'val_22', 'val_23', 'val_24', 'val_25'],\n",
       "      dtype='object')"
      ]
     },
     "execution_count": 9,
     "metadata": {},
     "output_type": "execute_result"
    }
   ],
   "source": [
    "final_df.columns"
   ]
  },
  {
   "cell_type": "code",
   "execution_count": 10,
   "id": "9a1a3103",
   "metadata": {},
   "outputs": [],
   "source": [
    "final_df.to_csv('../data/sparse_generated.csv', index=None)"
   ]
  }
 ],
 "metadata": {
  "kernelspec": {
   "display_name": "bioinfo37",
   "language": "python",
   "name": "bioinfo37"
  },
  "language_info": {
   "codemirror_mode": {
    "name": "ipython",
    "version": 3
   },
   "file_extension": ".py",
   "mimetype": "text/x-python",
   "name": "python",
   "nbconvert_exporter": "python",
   "pygments_lexer": "ipython3",
   "version": "3.7.13"
  }
 },
 "nbformat": 4,
 "nbformat_minor": 5
}

{
 "cells": [
  {
   "cell_type": "code",
   "execution_count": 1,
   "id": "c967476a",
   "metadata": {},
   "outputs": [],
   "source": [
    "import pandas as pd"
   ]
  },
  {
   "cell_type": "code",
   "execution_count": 2,
   "id": "5b4759b7",
   "metadata": {},
   "outputs": [],
   "source": [
    "import os"
   ]
  },
  {
   "cell_type": "code",
   "execution_count": 3,
   "id": "8d536323",
   "metadata": {},
   "outputs": [],
   "source": [
    "import glob"
   ]
  },
  {
   "cell_type": "code",
   "execution_count": 4,
   "id": "fb1bc4d7",
   "metadata": {},
   "outputs": [],
   "source": [
    "import re"
   ]
  },
  {
   "cell_type": "code",
   "execution_count": 5,
   "id": "f684f4f5",
   "metadata": {},
   "outputs": [],
   "source": [
    "pattern = re.compile(\n",
    "    r'../results/GeneratedSparseBatchSizeFixedMemory/(?P<cells>\\d+)_cells_(?P<features>\\d+)_features/(?P<sparsity>\\d+\\.\\d+)/\\d+_(?P<method>\\w+)_(?P<metric>\\w+)_memory.csv'\n",
    ")"
   ]
  },
  {
   "cell_type": "code",
   "execution_count": 6,
   "id": "19146ae3",
   "metadata": {},
   "outputs": [],
   "source": [
    "import numpy as np"
   ]
  },
  {
   "cell_type": "code",
   "execution_count": 13,
   "id": "7c61834f-135e-49e7-9369-04a491ca9df8",
   "metadata": {},
   "outputs": [],
   "source": [
    "\n",
    "def read_memory_R(filename):\n",
    "    df = pd.read_csv(filename, sep=' ')\n",
    "    # print(df)\n",
    "    return df.iloc[0]['V1'] - df.iloc[0]['V3']\n",
    "\n"
   ]
  },
  {
   "cell_type": "code",
   "execution_count": 14,
   "id": "cf53d322",
   "metadata": {},
   "outputs": [],
   "source": [
    "results = []\n",
    "\n",
    "for filename in glob.glob('../results/GeneratedSparseBatchSizeFixedMemory/*_cells_*features/*/*_*_*_memory.csv'):\n",
    "    group = pattern.match(filename)\n",
    "    \n",
    "    cells = int(group.group('cells'))\n",
    "    features = int(group.group('features'))\n",
    "    method = group.group('method')\n",
    "    metric = group.group('metric')\n",
    "    sparsity = group.group('sparsity')\n",
    "    \n",
    "#     print(cells, features, method, metric)\n",
    "    memory = read_memory_R(filename)\n",
    "    values = {\n",
    "        'DataFile': filename,\n",
    "        'metric': metric,\n",
    "        'method': method,\n",
    "        'wX': cells,\n",
    "        'wY': features,\n",
    "        'ID': f'{cells}_{features}',\n",
    "        '|W|': cells * features,\n",
    "        'logWX': np.log10(cells),\n",
    "        'logWY': np.log10(features),\n",
    "        'memory': memory,\n",
    "        'logMemory': np.log10(memory),\n",
    "        # 'sd': np.std(elements_sequential),\n",
    "        'Method': f'{metric}_{method}',\n",
    "        'sparsity': sparsity,\n",
    "    }\n",
    "        \n",
    "    results.append(values)"
   ]
  },
  {
   "cell_type": "code",
   "execution_count": 15,
   "id": "7d7b48bf",
   "metadata": {},
   "outputs": [],
   "source": [
    "final_df = pd.DataFrame(results)"
   ]
  },
  {
   "cell_type": "code",
   "execution_count": 16,
   "id": "1314614a",
   "metadata": {},
   "outputs": [
    {
     "data": {
      "text/plain": [
       "Index(['DataFile', 'metric', 'method', 'wX', 'wY', 'ID', '|W|', 'logWX',\n",
       "       'logWY', 'memory', 'logMemory', 'Method', 'sparsity'],\n",
       "      dtype='object')"
      ]
     },
     "execution_count": 16,
     "metadata": {},
     "output_type": "execute_result"
    }
   ],
   "source": [
    "final_df.columns"
   ]
  },
  {
   "cell_type": "code",
   "execution_count": 17,
   "id": "9a1a3103",
   "metadata": {},
   "outputs": [],
   "source": [
    "final_df.to_csv('../data/sparse_generated_memory.csv', index=None)"
   ]
  }
 ],
 "metadata": {
  "kernelspec": {
   "display_name": "bioinfo37",
   "language": "python",
   "name": "bioinfo37"
  },
  "language_info": {
   "codemirror_mode": {
    "name": "ipython",
    "version": 3
   },
   "file_extension": ".py",
   "mimetype": "text/x-python",
   "name": "python",
   "nbconvert_exporter": "python",
   "pygments_lexer": "ipython3",
   "version": "3.7.13"
  }
 },
 "nbformat": 4,
 "nbformat_minor": 5
}
